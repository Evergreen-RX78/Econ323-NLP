{
 "cells": [
  {
   "cell_type": "markdown",
   "metadata": {
    "collapsed": true,
    "pycharm": {
     "name": "#%% md\n"
    }
   },
   "source": [
    "# Analysis and Prediction of Donald Trump's Twitter Post\n",
    "## A sentiment analysis on Trump's Tweets with multiple NLP tools\n",
    "#### Author\n",
    "* Dinglyu Feng"
   ]
  },
  {
   "cell_type": "markdown",
   "metadata": {},
   "source": [
    "The 2020 US Presidential Election was just ended.This year we've all witnessed an unique Election during the time of Covid-19 with mail-in ballots. Donlad Trump as one of the most controversial presidents in the United States is known for his “Twitter Politics”. He has posted many tweets every day during his presidency and many of them immediately became \"breaking news\" on the internet. In this project, we want to explore the secret behind Donald Trump's Twitter post and do some deep analysis about them."
   ]
  },
  {
   "cell_type": "markdown",
   "metadata": {},
   "source": [
    "## Table of Content\n",
    "0. Preliminary Setup\n",
    "\n",
    "    \n",
    "1. Data Construction\n",
    "\n",
    "    1.1. Data Collection\n",
    "    \n",
    "    1.2. Data Cleaning\n",
    "\n",
    "\n",
    "2. Exploratory Data Analysis\n",
    "\n",
    "    2.1. Basic Statistic\n",
    "    \n",
    "    2.2. Sources\n",
    "\n",
    "\n",
    "3. NLP Analysis\n",
    "\n",
    "    3.1. N-Gram Analysis\n",
    "    \n",
    "    3.2. Sentiment Analysis\n",
    "    \n",
    "    3.3. Tableau Data Visualization\n",
    "\n",
    "\n",
    "4. Stock Market Analysis\n",
    "\n",
    "    4.1. Data Collection\n",
    "    \n",
    "    4.2. Model\n",
    "\n",
    "\n",
    "This is a public project on Github. And you can find the newest version here: https://github.com/Evergreen-RX78/Econ323-NLP.git\n",
    "\n",
    "Disclaimer: This project consisting of the analysis of Donald Trump's Tweets is only for academic purpose. It does not contain any author or organization's political perspectives nor is it trying to cause conflict among people with different political views."
   ]
  },
  {
   "cell_type": "markdown",
   "metadata": {},
   "source": [
    "### Preliminary Setup\n",
    "This projecct is ran on Jupyter Notebook with Python 3.7\n",
    "\n",
    "Before start, we install necessary packages and import them into the project:\n",
    "\n",
    "(In order for the project to run on your system, please ensure that you've pip install all the package below)"
   ]
  },
  {
   "cell_type": "code",
   "execution_count": 1,
   "metadata": {},
   "outputs": [],
   "source": [
    "# For Data collection\n",
    "import tweepy as tw\n",
    "import yfinance as yf\n",
    "\n",
    "# For Data processing and ML\n",
    "import numpy as np\n",
    "import pandas as pd\n",
    "import unicodedata\n",
    "import re\n",
    "\n",
    "# For NLP\n",
    "import nltk\n",
    "from textblob import TextBlob as tb\n",
    "\n",
    "# For Machine Learning\n",
    "from sklearn.model_selection import train_test_split\n",
    "from sklearn.ensemble import RandomForestClassifier\n",
    "from sklearn.ensemble import RandomForestRegressor\n",
    "from sklearn.preprocessing import StandardScaler\n",
    "\n",
    "# For Visualization\n",
    "import matplotlib.pyplot as plt\n",
    "\n",
    "import seaborn as sns\n",
    "%matplotlib inline"
   ]
  },
  {
   "cell_type": "markdown",
   "metadata": {},
   "source": [
    "## Data Construction\n",
    "### 1. Data Collectoin"
   ]
  },
  {
   "cell_type": "markdown",
   "metadata": {},
   "source": [
    "In order to do the sentiment analysis, the first thing we need to do is to get all Trump's tweets into a dataset.\n",
    "\n",
    "There are many python scrapping packages that can do the job. A very convenient one is call [GetOldTweets3](https://pypi.org/project/GetOldTweets3/). It's straight forward to use and doesn't require Twitter API login. However, due to a recent change on Twitter API, this package will return error message as Twitter has closed a search endpoint on their side. \n",
    "\n",
    "Thus, we use [Tweepy](https://www.tweepy.org/) instead, which is also a convenient scrapping package. It actually have more functions than GOT3 but its ability of getting large number of old tweets is slightly weaker.\n",
    "\n",
    "To use Tweepy, we will need a Twitter API. It can be registered on Twitter Developer platform.\n",
    "\n",
    "After registering your project, you will get a set of credential that need to be put in the code.\n",
    "\n",
    "It looks like this:"
   ]
  },
  {
   "cell_type": "code",
   "execution_count": 2,
   "metadata": {},
   "outputs": [],
   "source": [
    "#consumer_key = 'xxxxxx'\n",
    "#consumer_secret = 'xxxxxx'\n",
    "#access_token = 'xxxxxx'\n",
    "#access_token_secret = 'xxxxxx'"
   ]
  },
  {
   "cell_type": "markdown",
   "metadata": {},
   "source": [
    "Then we run the authentication code, which helps connect to the API."
   ]
  },
  {
   "cell_type": "code",
   "execution_count": 3,
   "metadata": {},
   "outputs": [
    {
     "data": {
      "text/plain": [
       "''"
      ]
     },
     "execution_count": 3,
     "metadata": {},
     "output_type": "execute_result"
    }
   ],
   "source": [
    "\"\"\"\n",
    "auth = tw.OAuthHandler(consumer_key, consumer_secret)\n",
    "auth.set_access_token(access_token, access_token_secret)\n",
    "api = tw.API(auth)\n",
    "\"\"\"\n",
    ";"
   ]
  },
  {
   "cell_type": "markdown",
   "metadata": {},
   "source": [
    "After that, we use the following code to scrap all the tweets Trump has ever posted and put them together into a CSV file."
   ]
  },
  {
   "cell_type": "code",
   "execution_count": 4,
   "metadata": {},
   "outputs": [
    {
     "data": {
      "text/plain": [
       "''"
      ]
     },
     "execution_count": 4,
     "metadata": {},
     "output_type": "execute_result"
    }
   ],
   "source": [
    "\"\"\"\n",
    "# Scrapping tweets from Twitter\n",
    "tweet = api.user_timeline(screen_name = \"realDonaldTrump\", count=200, include_rts = False,tweet_mode = 'extended')\n",
    "tweets = []\n",
    "tweets.extend(tweet)\n",
    "oldest_id = tweet[-1].id\n",
    "\n",
    "while True:\n",
    "    tweet = api.user_timeline(screen_name = \"realDonaldTrump\", count=200, include_rts = False, max_id = oldest_id - 1,tweet_mode = 'extended')\n",
    "    if len(tweet) == 0:\n",
    "        break\n",
    "    oldest_id = tweet[-1].id\n",
    "    tweets.extend(tweet)\n",
    "\n",
    "# Save all data into CSV\n",
    "tweet_set = [[tweet.id_str, \n",
    "              tweet.full_text.encode(\"utf-8\").decode(\"utf-8\")\n",
    "              tweet.favorite_count, \n",
    "              tweet.retweet_count, \n",
    "              tweet.created_at,] \n",
    "             for idx,tweet in enumerate(tweets)]\n",
    "df = pd.DataFrame(tweet_set,columns=[\"id\",\"text\",favorites\",\"retweets\", \"date\"])\n",
    "df.to_csv('trump_tweets.csv',index=False)\n",
    "\"\"\"\n",
    ";"
   ]
  },
  {
   "cell_type": "markdown",
   "metadata": {},
   "source": [
    "Normally you should run the above code with your real API credential to get the most up to date Tweets from Twitter. However, you may notice the above code are commented out. This is because as a public project, I won't be able to show my API credentials for information safety purpose.\n",
    "\n",
    "Instead, all the Twitter datas were collected and transformed into a dataset, which was saved in a csv file locally. We will directly read it with pandas on notebook so that this project can continue."
   ]
  },
  {
   "cell_type": "code",
   "execution_count": 5,
   "metadata": {},
   "outputs": [],
   "source": [
    "raw_tw = pd.read_csv('trump_tweets.csv')"
   ]
  },
  {
   "cell_type": "code",
   "execution_count": 6,
   "metadata": {},
   "outputs": [
    {
     "name": "stdout",
     "output_type": "stream",
     "text": [
      "<class 'pandas.core.frame.DataFrame'>\n",
      "RangeIndex: 55090 entries, 0 to 55089\n",
      "Data columns (total 8 columns):\n",
      " #   Column     Non-Null Count  Dtype \n",
      "---  ------     --------------  ----- \n",
      " 0   id         55090 non-null  int64 \n",
      " 1   text       55090 non-null  object\n",
      " 2   isRetweet  55090 non-null  object\n",
      " 3   isDeleted  55090 non-null  object\n",
      " 4   device     55090 non-null  object\n",
      " 5   favorites  55090 non-null  int64 \n",
      " 6   retweets   55090 non-null  int64 \n",
      " 7   date       55090 non-null  object\n",
      "dtypes: int64(3), object(5)\n",
      "memory usage: 2.3+ MB\n"
     ]
    }
   ],
   "source": [
    "raw_tw.info()"
   ]
  },
  {
   "cell_type": "code",
   "execution_count": 7,
   "metadata": {},
   "outputs": [
    {
     "data": {
      "text/html": [
       "<div>\n",
       "<style scoped>\n",
       "    .dataframe tbody tr th:only-of-type {\n",
       "        vertical-align: middle;\n",
       "    }\n",
       "\n",
       "    .dataframe tbody tr th {\n",
       "        vertical-align: top;\n",
       "    }\n",
       "\n",
       "    .dataframe thead th {\n",
       "        text-align: right;\n",
       "    }\n",
       "</style>\n",
       "<table border=\"1\" class=\"dataframe\">\n",
       "  <thead>\n",
       "    <tr style=\"text-align: right;\">\n",
       "      <th></th>\n",
       "      <th>id</th>\n",
       "      <th>text</th>\n",
       "      <th>isRetweet</th>\n",
       "      <th>isDeleted</th>\n",
       "      <th>device</th>\n",
       "      <th>favorites</th>\n",
       "      <th>retweets</th>\n",
       "      <th>date</th>\n",
       "    </tr>\n",
       "  </thead>\n",
       "  <tbody>\n",
       "    <tr>\n",
       "      <th>0</th>\n",
       "      <td>98454970654916608</td>\n",
       "      <td>Republicans and Democrats have both created ou...</td>\n",
       "      <td>f</td>\n",
       "      <td>f</td>\n",
       "      <td>TweetDeck</td>\n",
       "      <td>49</td>\n",
       "      <td>255</td>\n",
       "      <td>2011-08-02 18:07:48</td>\n",
       "    </tr>\n",
       "    <tr>\n",
       "      <th>1</th>\n",
       "      <td>1234653427789070336</td>\n",
       "      <td>I was thrilled to be back in the Great city of...</td>\n",
       "      <td>f</td>\n",
       "      <td>f</td>\n",
       "      <td>Twitter for iPhone</td>\n",
       "      <td>73748</td>\n",
       "      <td>17404</td>\n",
       "      <td>2020-03-03 01:34:50</td>\n",
       "    </tr>\n",
       "    <tr>\n",
       "      <th>2</th>\n",
       "      <td>1218010753434820614</td>\n",
       "      <td>RT @CBS_Herridge: READ: Letter to surveillance...</td>\n",
       "      <td>t</td>\n",
       "      <td>f</td>\n",
       "      <td>Twitter for iPhone</td>\n",
       "      <td>0</td>\n",
       "      <td>7396</td>\n",
       "      <td>2020-01-17 03:22:47</td>\n",
       "    </tr>\n",
       "    <tr>\n",
       "      <th>3</th>\n",
       "      <td>1304875170860015617</td>\n",
       "      <td>The Unsolicited Mail In Ballot Scam is a major...</td>\n",
       "      <td>f</td>\n",
       "      <td>f</td>\n",
       "      <td>Twitter for iPhone</td>\n",
       "      <td>80527</td>\n",
       "      <td>23502</td>\n",
       "      <td>2020-09-12 20:10:58</td>\n",
       "    </tr>\n",
       "    <tr>\n",
       "      <th>4</th>\n",
       "      <td>1218159531554897920</td>\n",
       "      <td>RT @MZHemingway: Very friendly telling of even...</td>\n",
       "      <td>t</td>\n",
       "      <td>f</td>\n",
       "      <td>Twitter for iPhone</td>\n",
       "      <td>0</td>\n",
       "      <td>9081</td>\n",
       "      <td>2020-01-17 13:13:59</td>\n",
       "    </tr>\n",
       "  </tbody>\n",
       "</table>\n",
       "</div>"
      ],
      "text/plain": [
       "                    id                                               text  \\\n",
       "0    98454970654916608  Republicans and Democrats have both created ou...   \n",
       "1  1234653427789070336  I was thrilled to be back in the Great city of...   \n",
       "2  1218010753434820614  RT @CBS_Herridge: READ: Letter to surveillance...   \n",
       "3  1304875170860015617  The Unsolicited Mail In Ballot Scam is a major...   \n",
       "4  1218159531554897920  RT @MZHemingway: Very friendly telling of even...   \n",
       "\n",
       "  isRetweet isDeleted              device  favorites  retweets  \\\n",
       "0         f         f           TweetDeck         49       255   \n",
       "1         f         f  Twitter for iPhone      73748     17404   \n",
       "2         t         f  Twitter for iPhone          0      7396   \n",
       "3         f         f  Twitter for iPhone      80527     23502   \n",
       "4         t         f  Twitter for iPhone          0      9081   \n",
       "\n",
       "                  date  \n",
       "0  2011-08-02 18:07:48  \n",
       "1  2020-03-03 01:34:50  \n",
       "2  2020-01-17 03:22:47  \n",
       "3  2020-09-12 20:10:58  \n",
       "4  2020-01-17 13:13:59  "
      ]
     },
     "execution_count": 7,
     "metadata": {},
     "output_type": "execute_result"
    }
   ],
   "source": [
    "raw_tw.head(5)"
   ]
  },
  {
   "cell_type": "markdown",
   "metadata": {},
   "source": [
    "### 2. Data Cleaning\n",
    "Next we want to clean the data to get a tidy dataset that we can use.\n",
    "\n",
    "Original tweets include many special components like hyperlinks and emojis that can't be easily analyzed by machine. We use following code to clean the text and output clean tweets that only includes alphabetical characters, regular symbols and numbers."
   ]
  },
  {
   "cell_type": "code",
   "execution_count": 8,
   "metadata": {},
   "outputs": [],
   "source": [
    "def clean_tweet(tweet):\n",
    "    return ' '.join(re.sub('(@[A-Za-z0-9]+)|([^0-9A-Za-z \\t])|(\\w+:\\/\\/\\S+)', ' ', tweet).split())\n",
    "clean_tw = raw_tw\n",
    "clean_tw[\"text\"] = raw_tw['text'].apply(lambda x: clean_tweet(x))"
   ]
  },
  {
   "cell_type": "code",
   "execution_count": 9,
   "metadata": {},
   "outputs": [
    {
     "data": {
      "text/html": [
       "<div>\n",
       "<style scoped>\n",
       "    .dataframe tbody tr th:only-of-type {\n",
       "        vertical-align: middle;\n",
       "    }\n",
       "\n",
       "    .dataframe tbody tr th {\n",
       "        vertical-align: top;\n",
       "    }\n",
       "\n",
       "    .dataframe thead th {\n",
       "        text-align: right;\n",
       "    }\n",
       "</style>\n",
       "<table border=\"1\" class=\"dataframe\">\n",
       "  <thead>\n",
       "    <tr style=\"text-align: right;\">\n",
       "      <th></th>\n",
       "      <th>id</th>\n",
       "      <th>text</th>\n",
       "      <th>isRetweet</th>\n",
       "      <th>isDeleted</th>\n",
       "      <th>device</th>\n",
       "      <th>favorites</th>\n",
       "      <th>retweets</th>\n",
       "      <th>date</th>\n",
       "    </tr>\n",
       "  </thead>\n",
       "  <tbody>\n",
       "    <tr>\n",
       "      <th>0</th>\n",
       "      <td>98454970654916608</td>\n",
       "      <td>Republicans and Democrats have both created ou...</td>\n",
       "      <td>f</td>\n",
       "      <td>f</td>\n",
       "      <td>TweetDeck</td>\n",
       "      <td>49</td>\n",
       "      <td>255</td>\n",
       "      <td>2011-08-02 18:07:48</td>\n",
       "    </tr>\n",
       "    <tr>\n",
       "      <th>1</th>\n",
       "      <td>1234653427789070336</td>\n",
       "      <td>I was thrilled to be back in the Great city of...</td>\n",
       "      <td>f</td>\n",
       "      <td>f</td>\n",
       "      <td>Twitter for iPhone</td>\n",
       "      <td>73748</td>\n",
       "      <td>17404</td>\n",
       "      <td>2020-03-03 01:34:50</td>\n",
       "    </tr>\n",
       "    <tr>\n",
       "      <th>2</th>\n",
       "      <td>1218010753434820614</td>\n",
       "      <td>RT Herridge READ Letter to surveillance court ...</td>\n",
       "      <td>t</td>\n",
       "      <td>f</td>\n",
       "      <td>Twitter for iPhone</td>\n",
       "      <td>0</td>\n",
       "      <td>7396</td>\n",
       "      <td>2020-01-17 03:22:47</td>\n",
       "    </tr>\n",
       "    <tr>\n",
       "      <th>3</th>\n",
       "      <td>1304875170860015617</td>\n",
       "      <td>The Unsolicited Mail In Ballot Scam is a major...</td>\n",
       "      <td>f</td>\n",
       "      <td>f</td>\n",
       "      <td>Twitter for iPhone</td>\n",
       "      <td>80527</td>\n",
       "      <td>23502</td>\n",
       "      <td>2020-09-12 20:10:58</td>\n",
       "    </tr>\n",
       "    <tr>\n",
       "      <th>4</th>\n",
       "      <td>1218159531554897920</td>\n",
       "      <td>RT Very friendly telling of events here about ...</td>\n",
       "      <td>t</td>\n",
       "      <td>f</td>\n",
       "      <td>Twitter for iPhone</td>\n",
       "      <td>0</td>\n",
       "      <td>9081</td>\n",
       "      <td>2020-01-17 13:13:59</td>\n",
       "    </tr>\n",
       "  </tbody>\n",
       "</table>\n",
       "</div>"
      ],
      "text/plain": [
       "                    id                                               text  \\\n",
       "0    98454970654916608  Republicans and Democrats have both created ou...   \n",
       "1  1234653427789070336  I was thrilled to be back in the Great city of...   \n",
       "2  1218010753434820614  RT Herridge READ Letter to surveillance court ...   \n",
       "3  1304875170860015617  The Unsolicited Mail In Ballot Scam is a major...   \n",
       "4  1218159531554897920  RT Very friendly telling of events here about ...   \n",
       "\n",
       "  isRetweet isDeleted              device  favorites  retweets  \\\n",
       "0         f         f           TweetDeck         49       255   \n",
       "1         f         f  Twitter for iPhone      73748     17404   \n",
       "2         t         f  Twitter for iPhone          0      7396   \n",
       "3         f         f  Twitter for iPhone      80527     23502   \n",
       "4         t         f  Twitter for iPhone          0      9081   \n",
       "\n",
       "                  date  \n",
       "0  2011-08-02 18:07:48  \n",
       "1  2020-03-03 01:34:50  \n",
       "2  2020-01-17 03:22:47  \n",
       "3  2020-09-12 20:10:58  \n",
       "4  2020-01-17 13:13:59  "
      ]
     },
     "execution_count": 9,
     "metadata": {},
     "output_type": "execute_result"
    }
   ],
   "source": [
    "clean_tw.head(5)"
   ]
  },
  {
   "cell_type": "markdown",
   "metadata": {},
   "source": [
    "Furthermore, we sort all tweets by date. We also delete all the irrelevant column that don't have impact on the analysis such as data id and deletion info.\n",
    "\n",
    "Although Trump was already a well known person a long time ago, the view and impact of his tweets have significantly increased after he was elected as the 45th US President. As he transitioning from a businessman to a political figure, his tweets have more weight on affecting the stock market as well. In this analysis, we want to focus on exploring his tweets after he was known politically. Thus, we only keep his tweets starting on 2016-02-01 (approximate time that he started rallying for the Election) and drop all tweets before that date."
   ]
  },
  {
   "cell_type": "code",
   "execution_count": 10,
   "metadata": {},
   "outputs": [
    {
     "data": {
      "text/html": [
       "<div>\n",
       "<style scoped>\n",
       "    .dataframe tbody tr th:only-of-type {\n",
       "        vertical-align: middle;\n",
       "    }\n",
       "\n",
       "    .dataframe tbody tr th {\n",
       "        vertical-align: top;\n",
       "    }\n",
       "\n",
       "    .dataframe thead th {\n",
       "        text-align: right;\n",
       "    }\n",
       "</style>\n",
       "<table border=\"1\" class=\"dataframe\">\n",
       "  <thead>\n",
       "    <tr style=\"text-align: right;\">\n",
       "      <th></th>\n",
       "      <th>text</th>\n",
       "      <th>isRetweet</th>\n",
       "      <th>device</th>\n",
       "      <th>favorites</th>\n",
       "      <th>retweets</th>\n",
       "      <th>date</th>\n",
       "    </tr>\n",
       "  </thead>\n",
       "  <tbody>\n",
       "    <tr>\n",
       "      <th>41318</th>\n",
       "      <td>Join us CaucusForTrump11am WATERLOO CEDER RAPIDS</td>\n",
       "      <td>f</td>\n",
       "      <td>Twitter for iPhone</td>\n",
       "      <td>4167</td>\n",
       "      <td>1640</td>\n",
       "      <td>2016-02-01 02:51:22</td>\n",
       "    </tr>\n",
       "    <tr>\n",
       "      <th>41317</th>\n",
       "      <td>It all begins today WE WILL FINALLY TAKE OUR C...</td>\n",
       "      <td>f</td>\n",
       "      <td>Twitter for Android</td>\n",
       "      <td>17571</td>\n",
       "      <td>7105</td>\n",
       "      <td>2016-02-01 13:25:20</td>\n",
       "    </tr>\n",
       "    <tr>\n",
       "      <th>41316</th>\n",
       "      <td>RT Sat down w here in Iowa Talked God late nig...</td>\n",
       "      <td>t</td>\n",
       "      <td>Twitter Web Client</td>\n",
       "      <td>0</td>\n",
       "      <td>852</td>\n",
       "      <td>2016-02-01 20:35:46</td>\n",
       "    </tr>\n",
       "    <tr>\n",
       "      <th>41315</th>\n",
       "      <td>RT CEDAR RAPIDS TRUMP S DAUGHT IVANKA I can ju...</td>\n",
       "      <td>t</td>\n",
       "      <td>Twitter Web Client</td>\n",
       "      <td>0</td>\n",
       "      <td>1384</td>\n",
       "      <td>2016-02-01 20:53:10</td>\n",
       "    </tr>\n",
       "    <tr>\n",
       "      <th>41303</th>\n",
       "      <td>RT VoteTrump2016 a real leader that truly care...</td>\n",
       "      <td>t</td>\n",
       "      <td>Twitter Web Client</td>\n",
       "      <td>0</td>\n",
       "      <td>1500</td>\n",
       "      <td>2016-02-02 07:33:38</td>\n",
       "    </tr>\n",
       "  </tbody>\n",
       "</table>\n",
       "</div>"
      ],
      "text/plain": [
       "                                                    text isRetweet  \\\n",
       "41318   Join us CaucusForTrump11am WATERLOO CEDER RAPIDS         f   \n",
       "41317  It all begins today WE WILL FINALLY TAKE OUR C...         f   \n",
       "41316  RT Sat down w here in Iowa Talked God late nig...         t   \n",
       "41315  RT CEDAR RAPIDS TRUMP S DAUGHT IVANKA I can ju...         t   \n",
       "41303  RT VoteTrump2016 a real leader that truly care...         t   \n",
       "\n",
       "                    device  favorites  retweets                 date  \n",
       "41318   Twitter for iPhone       4167      1640  2016-02-01 02:51:22  \n",
       "41317  Twitter for Android      17571      7105  2016-02-01 13:25:20  \n",
       "41316   Twitter Web Client          0       852  2016-02-01 20:35:46  \n",
       "41315   Twitter Web Client          0      1384  2016-02-01 20:53:10  \n",
       "41303   Twitter Web Client          0      1500  2016-02-02 07:33:38  "
      ]
     },
     "execution_count": 10,
     "metadata": {},
     "output_type": "execute_result"
    }
   ],
   "source": [
    "clean_tw.sort_values(\"date\",inplace=True)\n",
    "tw = clean_tw.drop(clean_tw[clean_tw['date']<\"2016-02-01\"].index).drop([\"id\", \"isDeleted\"],axis=1)\n",
    "tw.head(5)"
   ]
  },
  {
   "cell_type": "markdown",
   "metadata": {},
   "source": [
    "Because an original tweet and a retweet are written by differetn people, they tend to have differnt tones and attitudes. Mixing them together might disturb future sentiment analysis. We take out all tweets that are retweeted and keep only tweets that are written by Trump. The original dataset is named \"tw\" while the new dataset with only original tweets is named \"self_tw\". Both of them will be used for future analysis."
   ]
  },
  {
   "cell_type": "code",
   "execution_count": 11,
   "metadata": {},
   "outputs": [
    {
     "data": {
      "text/html": [
       "<div>\n",
       "<style scoped>\n",
       "    .dataframe tbody tr th:only-of-type {\n",
       "        vertical-align: middle;\n",
       "    }\n",
       "\n",
       "    .dataframe tbody tr th {\n",
       "        vertical-align: top;\n",
       "    }\n",
       "\n",
       "    .dataframe thead th {\n",
       "        text-align: right;\n",
       "    }\n",
       "</style>\n",
       "<table border=\"1\" class=\"dataframe\">\n",
       "  <thead>\n",
       "    <tr style=\"text-align: right;\">\n",
       "      <th></th>\n",
       "      <th>text</th>\n",
       "      <th>isRetweet</th>\n",
       "      <th>device</th>\n",
       "      <th>favorites</th>\n",
       "      <th>retweets</th>\n",
       "      <th>date</th>\n",
       "    </tr>\n",
       "  </thead>\n",
       "  <tbody>\n",
       "    <tr>\n",
       "      <th>41318</th>\n",
       "      <td>Join us CaucusForTrump11am WATERLOO CEDER RAPIDS</td>\n",
       "      <td>f</td>\n",
       "      <td>Twitter for iPhone</td>\n",
       "      <td>4167</td>\n",
       "      <td>1640</td>\n",
       "      <td>2016-02-01 02:51:22</td>\n",
       "    </tr>\n",
       "    <tr>\n",
       "      <th>41317</th>\n",
       "      <td>It all begins today WE WILL FINALLY TAKE OUR C...</td>\n",
       "      <td>f</td>\n",
       "      <td>Twitter for Android</td>\n",
       "      <td>17571</td>\n",
       "      <td>7105</td>\n",
       "      <td>2016-02-01 13:25:20</td>\n",
       "    </tr>\n",
       "    <tr>\n",
       "      <th>41314</th>\n",
       "      <td>My experience in Iowa was a great one I starte...</td>\n",
       "      <td>f</td>\n",
       "      <td>Twitter for Android</td>\n",
       "      <td>16820</td>\n",
       "      <td>4340</td>\n",
       "      <td>2016-02-02 16:03:21</td>\n",
       "    </tr>\n",
       "    <tr>\n",
       "      <th>41313</th>\n",
       "      <td>Because I was told I could not do well in Iowa...</td>\n",
       "      <td>f</td>\n",
       "      <td>Twitter for Android</td>\n",
       "      <td>12001</td>\n",
       "      <td>3325</td>\n",
       "      <td>2016-02-02 16:14:24</td>\n",
       "    </tr>\n",
       "    <tr>\n",
       "      <th>41312</th>\n",
       "      <td>The media has not covered my long shot great f...</td>\n",
       "      <td>f</td>\n",
       "      <td>Twitter for Android</td>\n",
       "      <td>10045</td>\n",
       "      <td>3030</td>\n",
       "      <td>2016-02-02 16:29:05</td>\n",
       "    </tr>\n",
       "  </tbody>\n",
       "</table>\n",
       "</div>"
      ],
      "text/plain": [
       "                                                    text isRetweet  \\\n",
       "41318   Join us CaucusForTrump11am WATERLOO CEDER RAPIDS         f   \n",
       "41317  It all begins today WE WILL FINALLY TAKE OUR C...         f   \n",
       "41314  My experience in Iowa was a great one I starte...         f   \n",
       "41313  Because I was told I could not do well in Iowa...         f   \n",
       "41312  The media has not covered my long shot great f...         f   \n",
       "\n",
       "                    device  favorites  retweets                 date  \n",
       "41318   Twitter for iPhone       4167      1640  2016-02-01 02:51:22  \n",
       "41317  Twitter for Android      17571      7105  2016-02-01 13:25:20  \n",
       "41314  Twitter for Android      16820      4340  2016-02-02 16:03:21  \n",
       "41313  Twitter for Android      12001      3325  2016-02-02 16:14:24  \n",
       "41312  Twitter for Android      10045      3030  2016-02-02 16:29:05  "
      ]
     },
     "execution_count": 11,
     "metadata": {},
     "output_type": "execute_result"
    }
   ],
   "source": [
    "self_tw = tw[~tw[\"isRetweet\"].isin([\"t\"])]\n",
    "self_tw.head()"
   ]
  },
  {
   "cell_type": "markdown",
   "metadata": {},
   "source": [
    "## Exploratory Data Analysis\n",
    "Before we start working on NLP and Machine Learning model, we want to first briefly explore the dataset."
   ]
  },
  {
   "cell_type": "markdown",
   "metadata": {},
   "source": [
    "### 1. Basic statistics\n",
    "Now we have a large dataset in hand and the first thing that is interesting to look at is some extreme values.\n",
    "\n",
    "We want to find the tweets with most likes and most retweets and see if there's any correlation between them."
   ]
  },
  {
   "cell_type": "code",
   "execution_count": 12,
   "metadata": {},
   "outputs": [
    {
     "name": "stdout",
     "output_type": "stream",
     "text": [
      "The tweet with most likes is: \n",
      "Tonight and I tested positive for COVID 19 We will begin our quarantine and recovery process immediately We will get through this TOGETHER\n",
      "Number of likes: 1869706\n",
      "\n",
      "The tweet with more retweets is: \n",
      "Tonight and I tested positive for COVID 19 We will begin our quarantine and recovery process immediately We will get through this TOGETHER\n",
      "Number of retweets: 408866\n"
     ]
    }
   ],
   "source": [
    "max_fav = np.max(tw['favorites'])\n",
    "max_rt  = np.max(tw['retweets'])\n",
    "\n",
    "fav = tw[tw.favorites == max_fav].index[0]\n",
    "rt  = tw[tw.retweets == max_rt].index[0]\n",
    "\n",
    "print(\"The tweet with most likes is: \\n{}\".format(tw['text'][fav]))\n",
    "print(\"Number of likes: {}\".format(max_fav))\n",
    "print(\"\")\n",
    "print(\"The tweet with more retweets is: \\n{}\".format(tw['text'][rt]))\n",
    "print(\"Number of retweets: {}\".format(max_rt))"
   ]
  },
  {
   "cell_type": "markdown",
   "metadata": {},
   "source": [
    "It's not surprising to find both extrme values are the one that Trump announce he was tested positive for Covid-19.\n",
    "\n",
    "We further plot these two datas on a graph to show the trend in change of interaction level. The interactions with his tweets gradually increase as it appraoched the time of Election."
   ]
  },
  {
   "cell_type": "code",
   "execution_count": 13,
   "metadata": {},
   "outputs": [
    {
     "data": {
      "image/png": "[encoded data removed]",
      "text/plain": [
       "<Figure size 1152x288 with 1 Axes>"
      ]
     },
     "metadata": {
      "needs_background": "light"
     },
     "output_type": "display_data"
    }
   ],
   "source": [
    "favs = pd.Series(tw['favorites'].values, index=tw['date'])\n",
    "rets = pd.Series(tw['retweets'].values, index=tw['date'])\n",
    "favs.plot(figsize=(16,4), label=\"Likes\", legend=True);\n",
    "rets.plot(figsize=(16,4), label=\"Retweets\", legend=True);"
   ]
  },
  {
   "cell_type": "markdown",
   "metadata": {},
   "source": [
    "### 2. Sources"
   ]
  },
  {
   "cell_type": "markdown",
   "metadata": {},
   "source": [
    "Here we are making a list of all the devices that have been used to write a \"Trump's Tweets\". The following pie charts show the percentage of devic that all the tweets are sent from. While there're many articles suspecting that maybe not all of these tweets were written by Trump himself, we still choose to keep all of them, as the main purpose of this analysis is not to detect the real author of the tweets. Despite who the authors are, Trump's tweets are likely to have similar impact among readers."
   ]
  },
  {
   "cell_type": "code",
   "execution_count": 14,
   "metadata": {},
   "outputs": [
    {
     "name": "stdout",
     "output_type": "stream",
     "text": [
      "Device the tweet is written:\n",
      "* Twitter for iPhone\n",
      "* Twitter for Android\n",
      "* Twitter Web Client\n",
      "* Twitter Web App\n",
      "* Instagram\n",
      "* Twitter Ads\n",
      "* Twitter for iPad\n",
      "* Twitter Media Studio\n",
      "* TweetDeck\n",
      "* Periscope\n",
      "* Media Studio\n"
     ]
    }
   ],
   "source": [
    "sources = []\n",
    "for source in tw['device']:\n",
    "    if source not in sources:\n",
    "        sources.append(source)\n",
    "print(\"Device the tweet is written:\")\n",
    "for source in sources:\n",
    "    print(\"* {}\".format(source))"
   ]
  },
  {
   "cell_type": "code",
   "execution_count": 15,
   "metadata": {},
   "outputs": [
    {
     "data": {
      "image/png": "[encoded data removed]",
      "text/plain": [
       "<Figure size 792x792 with 1 Axes>"
      ]
     },
     "metadata": {},
     "output_type": "display_data"
    }
   ],
   "source": [
    "percent = np.zeros(len(sources))\n",
    "for source in tw['device']:\n",
    "    for index in range(len(sources)):\n",
    "        if source == sources[index]:\n",
    "            percent[index] += 1\n",
    "            pass\n",
    "\n",
    "labels = sources\n",
    "plt.figure(figsize=(11,11))\n",
    "plt.pie(percent,autopct='%.2f')\n",
    "plt.legend(labels, loc=\"best\")\n",
    "plt.axis(\"off\")\n",
    "plt.show()"
   ]
  },
  {
   "cell_type": "markdown",
   "metadata": {},
   "source": [
    "## NLP Analysis\n",
    "\n",
    "### 1. N-Gram Analysis (NLTK)\n",
    "Starting from here, we finally enter the field of Natural Language Processing. NLP lets us use computational technique to analyze sentences in human languages in order to get a specific outcome. It has already been applied in our daily life including the predictive function on smartphone keyboards and AI search result suggestions. \n",
    "\n",
    "The first NLP tool we use is the [NLTK](https://www.nltk.org/) package. It's one of the strongest python package in NLP, providing various functions. We use it to performe a simple word lemmatization. Then the sentences are split into words."
   ]
  },
  {
   "cell_type": "code",
   "execution_count": 16,
   "metadata": {},
   "outputs": [],
   "source": [
    "def w_process(text):\n",
    "  wnl = nltk.stem.WordNetLemmatizer()\n",
    "  sw = nltk.corpus.stopwords.words('english')\n",
    "  text = (unicodedata.normalize('NFKD', text)\n",
    "    .encode('ascii', 'ignore')\n",
    "    .decode('utf-8', 'ignore')\n",
    "    .lower())\n",
    "  words = re.sub(r'[^\\w\\s]', '', text).split()\n",
    "  return [wnl.lemmatize(word) for word in words if word not in sw]"
   ]
  },
  {
   "cell_type": "markdown",
   "metadata": {},
   "source": [
    "We further define several functions that are useful for N-Gram analysis. N-Gram analysis is also a function provided by NLTK package.\n",
    "\n",
    "Basically, N-Gram is a contiguous sequence of n words from a given sentences. An N-Gram model can predict the occurrence of a word based on the occurrence of its N – 1 previous words.\n",
    "\n",
    "For this analysis, we will use self_tw which only consist of Trump's original tweets."
   ]
  },
  {
   "cell_type": "code",
   "execution_count": 17,
   "metadata": {},
   "outputs": [],
   "source": [
    "def w_take(df, col):\n",
    "    \"\"\"\n",
    "    Takes in a dataframe and columns\n",
    "    Rreturns a list of words that have been processed\n",
    "    \"\"\"\n",
    "    return w_process(''.join(str(df[col].tolist())))\n",
    "\n",
    "def bi_grams(df, col):\n",
    "    \"\"\"\n",
    "    Takes in a list of words\n",
    "    Returns a series of 10 top used bigrams with value counts.\n",
    "    \"\"\"\n",
    "    return (pd.Series(nltk.ngrams(w_take(df, col), 2)).value_counts())[:10]\n",
    "\n",
    "def bg_vis(df ,col):\n",
    "    \n",
    "    # Visualization of the Bi-Gram series\n",
    "    \n",
    "    bi_grams(df, col).sort_values().plot.barh(width=.9, figsize=(12, 8))\n",
    "    plt.title(\"10 Most Frequently Used Bigrams\")\n",
    "    plt.ylabel(\"Bigram\")\n",
    "    plt.xlabel(\"Occurances\")\n",
    "\n",
    "def tri_grams(df, col):\n",
    "    \"\"\"\n",
    "    Takes in a list of words\n",
    "    Returns a series of 10 top used trigrams with value counts.\n",
    "    \"\"\"\n",
    "    return (pd.Series(nltk.ngrams(w_take(df, col), 3)).value_counts())[:10]\n",
    "\n",
    "def tg_vis(df, col):\n",
    "    \n",
    "    # Visualization of the Tri-Gram series\n",
    "    \n",
    "    tri_grams(df, col).sort_values().plot.barh(color=\"orange\", width=.9, figsize=(12, 8))\n",
    "    plt.title(\"10 Most Frequently Used Trigrams\")\n",
    "    plt.ylabel(\"Trigram\")\n",
    "    plt.xlabel(\"Occurances\")"
   ]
  },
  {
   "cell_type": "code",
   "execution_count": 18,
   "metadata": {},
   "outputs": [
    {
     "data": {
      "text/plain": [
       "(fake, news)            882\n",
       "(united, state)         523\n",
       "(america, great)        419\n",
       "(make, america)         380\n",
       "(crooked, hillary)      377\n",
       "(witch, hunt)           365\n",
       "(white, house)          320\n",
       "(new, york)             301\n",
       "(hillary, clinton)      294\n",
       "(total, endorsement)    284\n",
       "dtype: int64"
      ]
     },
     "execution_count": 18,
     "metadata": {},
     "output_type": "execute_result"
    }
   ],
   "source": [
    "bi_grams(self_tw, \"text\")"
   ]
  },
  {
   "cell_type": "code",
   "execution_count": 19,
   "metadata": {},
   "outputs": [
    {
     "data": {
      "image/png": "[encoded data removed]",
      "text/plain": [
       "<Figure size 864x576 with 1 Axes>"
      ]
     },
     "metadata": {
      "needs_background": "light"
     },
     "output_type": "display_data"
    }
   ],
   "source": [
    "bg_vis(self_tw, \"text\")"
   ]
  },
  {
   "cell_type": "code",
   "execution_count": 20,
   "metadata": {},
   "outputs": [
    {
     "data": {
      "text/plain": [
       "(make, america, great)            329\n",
       "(fake, news, medium)              231\n",
       "(complete, total, endorsement)    222\n",
       "(crooked, hillary, clinton)       136\n",
       "(new, york, time)                  92\n",
       "(sleepy, joe, biden)               86\n",
       "(radical, left, democrat)          65\n",
       "(kim, jong, un)                    61\n",
       "(strong, crime, border)            60\n",
       "(law, amp, order)                  53\n",
       "dtype: int64"
      ]
     },
     "execution_count": 20,
     "metadata": {},
     "output_type": "execute_result"
    }
   ],
   "source": [
    "tri_grams(self_tw, \"text\")"
   ]
  },
  {
   "cell_type": "code",
   "execution_count": 21,
   "metadata": {},
   "outputs": [
    {
     "data": {
      "image/png": "[encoded data removed]",
      "text/plain": [
       "<Figure size 864x576 with 1 Axes>"
      ]
     },
     "metadata": {
      "needs_background": "light"
     },
     "output_type": "display_data"
    }
   ],
   "source": [
    "tg_vis(self_tw, \"text\")"
   ]
  },
  {
   "cell_type": "markdown",
   "metadata": {},
   "source": [
    "### 2. Sentiment Analysis (TextBlob)"
   ]
  },
  {
   "cell_type": "markdown",
   "metadata": {},
   "source": [
    "People express their opinions on Twitter and these usually have sentiment associated with them. The next NLP analysis we are gonna do is called \"Sentiment Analysis\", which categorizes the tweet as either positive, negative or neutral. Sentiment analysis may show people's attitude towards a topic and lead to some useful insight.\n",
    "\n",
    "Although NLTK is a very powerful tool, this time we are gonna switch to something simpler and easier to use. [TextBlob](https://textblob.readthedocs.io/en/dev/) is a simplified text processing tool that can help determine the sentiment of a sentence by parsing through and giving it a score between -1 and 1. A negative number means negative sentiment, while a positive number simply means positive sentiment. It's totally possible that the machine may give an incorrect sentiment for tricky words like \"high poverty rate\". A well trained model may have less possibility on doing such things.\n",
    "\n",
    "When exploring some interesting topics with machine learning, sentiment score becomes a useful indicator that can potentially drive correlation between result and attitudes. In the following code, we let python performe sentiment analysis for each of the tweets and give a score based on that. A subjectivity test will also be done. Furthermore, a new column will be made indicating the polarity of each tweet."
   ]
  },
  {
   "cell_type": "code",
   "execution_count": 22,
   "metadata": {},
   "outputs": [
    {
     "name": "stderr",
     "output_type": "stream",
     "text": [
      "c:\\software\\coding\\python\\lib\\site-packages\\ipykernel_launcher.py:9: SettingWithCopyWarning: \n",
      "A value is trying to be set on a copy of a slice from a DataFrame.\n",
      "Try using .loc[row_indexer,col_indexer] = value instead\n",
      "\n",
      "See the caveats in the documentation: https://pandas.pydata.org/pandas-docs/stable/user_guide/indexing.html#returning-a-view-versus-a-copy\n",
      "  if __name__ == '__main__':\n",
      "c:\\software\\coding\\python\\lib\\site-packages\\ipykernel_launcher.py:10: SettingWithCopyWarning: \n",
      "A value is trying to be set on a copy of a slice from a DataFrame.\n",
      "Try using .loc[row_indexer,col_indexer] = value instead\n",
      "\n",
      "See the caveats in the documentation: https://pandas.pydata.org/pandas-docs/stable/user_guide/indexing.html#returning-a-view-versus-a-copy\n",
      "  # Remove the CWD from sys.path while we load stuff.\n",
      "c:\\software\\coding\\python\\lib\\site-packages\\ipykernel_launcher.py:11: SettingWithCopyWarning: \n",
      "A value is trying to be set on a copy of a slice from a DataFrame.\n",
      "Try using .loc[row_indexer,col_indexer] = value instead\n",
      "\n",
      "See the caveats in the documentation: https://pandas.pydata.org/pandas-docs/stable/user_guide/indexing.html#returning-a-view-versus-a-copy\n",
      "  # This is added back by InteractiveShellApp.init_path()\n"
     ]
    }
   ],
   "source": [
    "def sa_polarity(tweet):\n",
    "    if tb(tweet).sentiment.polarity > 0:\n",
    "        return \"Positive\"\n",
    "    elif tb(tweet).sentiment.polarity ==0:\n",
    "        return \"Neutral\"\n",
    "    else:\n",
    "        return \"Negative\"\n",
    "    \n",
    "self_tw[\"Polarity\"] = np.array([sa_polarity(tweet) for tweet in self_tw['text']])\n",
    "self_tw[\"Sentiment score\"] = np.array([tb(tweet).sentiment.polarity for tweet in self_tw['text']])\n",
    "self_tw[\"Subjectivity score\"] = np.array([tb(tweet).sentiment.subjectivity for tweet in self_tw['text']])"
   ]
  },
  {
   "cell_type": "code",
   "execution_count": 23,
   "metadata": {},
   "outputs": [
    {
     "data": {
      "text/html": [
       "<div>\n",
       "<style scoped>\n",
       "    .dataframe tbody tr th:only-of-type {\n",
       "        vertical-align: middle;\n",
       "    }\n",
       "\n",
       "    .dataframe tbody tr th {\n",
       "        vertical-align: top;\n",
       "    }\n",
       "\n",
       "    .dataframe thead th {\n",
       "        text-align: right;\n",
       "    }\n",
       "</style>\n",
       "<table border=\"1\" class=\"dataframe\">\n",
       "  <thead>\n",
       "    <tr style=\"text-align: right;\">\n",
       "      <th></th>\n",
       "      <th>text</th>\n",
       "      <th>isRetweet</th>\n",
       "      <th>device</th>\n",
       "      <th>favorites</th>\n",
       "      <th>retweets</th>\n",
       "      <th>date</th>\n",
       "      <th>Polarity</th>\n",
       "      <th>Sentiment score</th>\n",
       "      <th>Subjectivity score</th>\n",
       "    </tr>\n",
       "  </thead>\n",
       "  <tbody>\n",
       "    <tr>\n",
       "      <th>41318</th>\n",
       "      <td>Join us CaucusForTrump11am WATERLOO CEDER RAPIDS</td>\n",
       "      <td>f</td>\n",
       "      <td>Twitter for iPhone</td>\n",
       "      <td>4167</td>\n",
       "      <td>1640</td>\n",
       "      <td>2016-02-01 02:51:22</td>\n",
       "      <td>Neutral</td>\n",
       "      <td>0.000000</td>\n",
       "      <td>0.000000</td>\n",
       "    </tr>\n",
       "    <tr>\n",
       "      <th>41317</th>\n",
       "      <td>It all begins today WE WILL FINALLY TAKE OUR C...</td>\n",
       "      <td>f</td>\n",
       "      <td>Twitter for Android</td>\n",
       "      <td>17571</td>\n",
       "      <td>7105</td>\n",
       "      <td>2016-02-01 13:25:20</td>\n",
       "      <td>Positive</td>\n",
       "      <td>0.266667</td>\n",
       "      <td>0.583333</td>\n",
       "    </tr>\n",
       "    <tr>\n",
       "      <th>41314</th>\n",
       "      <td>My experience in Iowa was a great one I starte...</td>\n",
       "      <td>f</td>\n",
       "      <td>Twitter for Android</td>\n",
       "      <td>16820</td>\n",
       "      <td>4340</td>\n",
       "      <td>2016-02-02 16:03:21</td>\n",
       "      <td>Positive</td>\n",
       "      <td>0.466667</td>\n",
       "      <td>0.583333</td>\n",
       "    </tr>\n",
       "    <tr>\n",
       "      <th>41313</th>\n",
       "      <td>Because I was told I could not do well in Iowa...</td>\n",
       "      <td>f</td>\n",
       "      <td>Twitter for Android</td>\n",
       "      <td>12001</td>\n",
       "      <td>3325</td>\n",
       "      <td>2016-02-02 16:14:24</td>\n",
       "      <td>Positive</td>\n",
       "      <td>0.177917</td>\n",
       "      <td>0.446667</td>\n",
       "    </tr>\n",
       "    <tr>\n",
       "      <th>41312</th>\n",
       "      <td>The media has not covered my long shot great f...</td>\n",
       "      <td>f</td>\n",
       "      <td>Twitter for Android</td>\n",
       "      <td>10045</td>\n",
       "      <td>3030</td>\n",
       "      <td>2016-02-02 16:29:05</td>\n",
       "      <td>Positive</td>\n",
       "      <td>0.290000</td>\n",
       "      <td>0.560000</td>\n",
       "    </tr>\n",
       "  </tbody>\n",
       "</table>\n",
       "</div>"
      ],
      "text/plain": [
       "                                                    text isRetweet  \\\n",
       "41318   Join us CaucusForTrump11am WATERLOO CEDER RAPIDS         f   \n",
       "41317  It all begins today WE WILL FINALLY TAKE OUR C...         f   \n",
       "41314  My experience in Iowa was a great one I starte...         f   \n",
       "41313  Because I was told I could not do well in Iowa...         f   \n",
       "41312  The media has not covered my long shot great f...         f   \n",
       "\n",
       "                    device  favorites  retweets                 date  \\\n",
       "41318   Twitter for iPhone       4167      1640  2016-02-01 02:51:22   \n",
       "41317  Twitter for Android      17571      7105  2016-02-01 13:25:20   \n",
       "41314  Twitter for Android      16820      4340  2016-02-02 16:03:21   \n",
       "41313  Twitter for Android      12001      3325  2016-02-02 16:14:24   \n",
       "41312  Twitter for Android      10045      3030  2016-02-02 16:29:05   \n",
       "\n",
       "       Polarity  Sentiment score  Subjectivity score  \n",
       "41318   Neutral         0.000000            0.000000  \n",
       "41317  Positive         0.266667            0.583333  \n",
       "41314  Positive         0.466667            0.583333  \n",
       "41313  Positive         0.177917            0.446667  \n",
       "41312  Positive         0.290000            0.560000  "
      ]
     },
     "execution_count": 23,
     "metadata": {},
     "output_type": "execute_result"
    }
   ],
   "source": [
    "self_tw.head()"
   ]
  },
  {
   "cell_type": "code",
   "execution_count": 24,
   "metadata": {},
   "outputs": [
    {
     "name": "stdout",
     "output_type": "stream",
     "text": [
      "The percentage of each Polarity in all tweets:\n"
     ]
    },
    {
     "data": {
      "text/plain": [
       "Positive    0.524386\n",
       "Neutral     0.258857\n",
       "Negative    0.216757\n",
       "Name: Polarity, dtype: float64"
      ]
     },
     "execution_count": 24,
     "metadata": {},
     "output_type": "execute_result"
    }
   ],
   "source": [
    "print(\"The percentage of each Polarity in all tweets:\")\n",
    "self_tw[\"Polarity\"].value_counts(normalize = True)"
   ]
  },
  {
   "cell_type": "code",
   "execution_count": 25,
   "metadata": {},
   "outputs": [
    {
     "data": {
      "image/png": "[encoded data removed]",
      "text/plain": [
       "<Figure size 432x288 with 1 Axes>"
      ]
     },
     "metadata": {
      "needs_background": "light"
     },
     "output_type": "display_data"
    }
   ],
   "source": [
    "self_tw[\"Polarity\"].value_counts().plot.bar(color=\"green\")\n",
    "plt.title(\"Number of each Polarity show in all tweets\")\n",
    "plt.show()"
   ]
  },
  {
   "cell_type": "markdown",
   "metadata": {},
   "source": [
    "### 3. Tableau Data Visualization\n",
    "The next step we are gonna do is to put both polarity score and subjectivity score into one line chart. To do that, we can simply group the date by month and plot it with matplotlib. However, we want to go a little further by allowing user to choose the specific time periods they are looking at and also see the entire trails on time series analysis.\n",
    "\n",
    "Thus, I want to introduce a new visualization tool called [Tableau](https://www.tableau.com/). Tableau is a leading industrial data visualization tool that can help organize, analyze and visualize datas. In this project, I'm using it to create a motion chart that allows reader to choose which periods of date they want to look at. By clicking on the play button, it shows animation of time flow with all the trails.\n",
    "\n",
    "To do that, we first save the dataset to a csv file."
   ]
  },
  {
   "cell_type": "code",
   "execution_count": 26,
   "metadata": {},
   "outputs": [],
   "source": [
    "self_tw.to_csv(\"trump_tweets_sentiment.csv\")"
   ]
  },
  {
   "cell_type": "markdown",
   "metadata": {},
   "source": [
    "After that, we will be using Tableau Desktop to create the visualization we need. After creating the workbook, it is then published to Tableau Online server. The server will generate an embeded url that can be integrated in Jupyter Notebook.\n",
    "\n",
    "(Tableau Online server requires a paid subscription. Please let me know if the following integration stop showing up.)"
   ]
  },
  {
   "cell_type": "code",
   "execution_count": 27,
   "metadata": {},
   "outputs": [
    {
     "data": {
      "text/html": [
       "<script type='text/javascript' src='https://us-west-2b.online.tableau.com/javascripts/api/viz_v1.js'></script><div class='tableauPlaceholder' style='width: 956px; height: 905px;'><object class='tableauViz' width='956' height='905' style='display:none;'><param name='host_url' value='https%3A%2F%2Fus-west-2b.online.tableau.com%2F' /> <param name='embed_code_version' value='3' /> <param name='site_root' value='&#47;t&#47;dlfenganalytics' /><param name='name' value='Trump_Tweets_Sentiment&#47;trump_tweet_sentiment_motion&#47;dinglujamesfeng@gmail.com&#47;f720f162-7010-4f7a-b5bc-55bd3b6d2196' /><param name='tabs' value='no' /><param name='toolbar' value='yes' /><param name='showAppBanner' value='false' /></object></div>\n"
      ],
      "text/plain": [
       "<IPython.core.display.HTML object>"
      ]
     },
     "metadata": {},
     "output_type": "display_data"
    }
   ],
   "source": [
    "%%HTML\n",
    "<script type='text/javascript' src='https://us-west-2b.online.tableau.com/javascripts/api/viz_v1.js'></script><div class='tableauPlaceholder' style='width: 956px; height: 905px;'><object class='tableauViz' width='956' height='905' style='display:none;'><param name='host_url' value='https%3A%2F%2Fus-west-2b.online.tableau.com%2F' /> <param name='embed_code_version' value='3' /> <param name='site_root' value='&#47;t&#47;dlfenganalytics' /><param name='name' value='Trump_Tweets_Sentiment&#47;trump_tweet_sentiment_motion&#47;dinglujamesfeng@gmail.com&#47;f720f162-7010-4f7a-b5bc-55bd3b6d2196' /><param name='tabs' value='no' /><param name='toolbar' value='yes' /><param name='showAppBanner' value='false' /></object></div>"
   ]
  },
  {
   "cell_type": "markdown",
   "metadata": {},
   "source": [
    "## Stock Market Analysis\n",
    "### 1. Data Collection \n",
    "Many evidences have showed that Trump's Twitter has constantly impacting stock market performance. As a development of this project, we want to find the corrrelation between the stock market trend and the setiment score of Trump's post.\n",
    "\n",
    "The first step is to scrap some financial data from the internet. Here we use a convenient python package called [YFinance](https://pypi.org/project/yfinance/). It helps get all the historical financial data from Yahoo Finance. Since we are learning about the general stock market performance, we will use S&P500 Market index in the project.\n",
    "\n",
    "Because we are using a market index, the dividends and stock split column are dropped. Date are corped from 2016-02-01 to 2019-11-06 to match the date from the Trump_Twitter dataset."
   ]
  },
  {
   "cell_type": "code",
   "execution_count": 28,
   "metadata": {},
   "outputs": [
    {
     "data": {
      "text/html": [
       "<div>\n",
       "<style scoped>\n",
       "    .dataframe tbody tr th:only-of-type {\n",
       "        vertical-align: middle;\n",
       "    }\n",
       "\n",
       "    .dataframe tbody tr th {\n",
       "        vertical-align: top;\n",
       "    }\n",
       "\n",
       "    .dataframe thead th {\n",
       "        text-align: right;\n",
       "    }\n",
       "</style>\n",
       "<table border=\"1\" class=\"dataframe\">\n",
       "  <thead>\n",
       "    <tr style=\"text-align: right;\">\n",
       "      <th></th>\n",
       "      <th>Open</th>\n",
       "      <th>High</th>\n",
       "      <th>Low</th>\n",
       "      <th>Close</th>\n",
       "      <th>Volume</th>\n",
       "    </tr>\n",
       "    <tr>\n",
       "      <th>Date</th>\n",
       "      <th></th>\n",
       "      <th></th>\n",
       "      <th></th>\n",
       "      <th></th>\n",
       "      <th></th>\n",
       "    </tr>\n",
       "  </thead>\n",
       "  <tbody>\n",
       "    <tr>\n",
       "      <th>2016-02-01</th>\n",
       "      <td>1936.939941</td>\n",
       "      <td>1947.199951</td>\n",
       "      <td>1920.300049</td>\n",
       "      <td>1939.380005</td>\n",
       "      <td>4322530000</td>\n",
       "    </tr>\n",
       "    <tr>\n",
       "      <th>2016-02-02</th>\n",
       "      <td>1935.260010</td>\n",
       "      <td>1935.260010</td>\n",
       "      <td>1897.290039</td>\n",
       "      <td>1903.030029</td>\n",
       "      <td>4463190000</td>\n",
       "    </tr>\n",
       "    <tr>\n",
       "      <th>2016-02-03</th>\n",
       "      <td>1907.069946</td>\n",
       "      <td>1918.010010</td>\n",
       "      <td>1872.229980</td>\n",
       "      <td>1912.530029</td>\n",
       "      <td>5172950000</td>\n",
       "    </tr>\n",
       "    <tr>\n",
       "      <th>2016-02-04</th>\n",
       "      <td>1911.670044</td>\n",
       "      <td>1927.349976</td>\n",
       "      <td>1900.520020</td>\n",
       "      <td>1915.449951</td>\n",
       "      <td>5193320000</td>\n",
       "    </tr>\n",
       "    <tr>\n",
       "      <th>2016-02-05</th>\n",
       "      <td>1913.069946</td>\n",
       "      <td>1913.069946</td>\n",
       "      <td>1872.650024</td>\n",
       "      <td>1880.050049</td>\n",
       "      <td>4929940000</td>\n",
       "    </tr>\n",
       "  </tbody>\n",
       "</table>\n",
       "</div>"
      ],
      "text/plain": [
       "                   Open         High          Low        Close      Volume\n",
       "Date                                                                      \n",
       "2016-02-01  1936.939941  1947.199951  1920.300049  1939.380005  4322530000\n",
       "2016-02-02  1935.260010  1935.260010  1897.290039  1903.030029  4463190000\n",
       "2016-02-03  1907.069946  1918.010010  1872.229980  1912.530029  5172950000\n",
       "2016-02-04  1911.670044  1927.349976  1900.520020  1915.449951  5193320000\n",
       "2016-02-05  1913.069946  1913.069946  1872.650024  1880.050049  4929940000"
      ]
     },
     "execution_count": 28,
     "metadata": {},
     "output_type": "execute_result"
    }
   ],
   "source": [
    "sp500 = yf.Ticker(\"^GSPC\")\n",
    "sp_data_raw = sp500.history(start=\"2016-02-01\", end=\"2020-11-06\")\n",
    "spd = sp_data_raw.drop([\"Dividends\", \"Stock Splits\"],axis=1)\n",
    "spd.head()"
   ]
  },
  {
   "cell_type": "code",
   "execution_count": 29,
   "metadata": {},
   "outputs": [
    {
     "data": {
      "image/png": "[encoded data removed]",
      "text/plain": [
       "<Figure size 1872x1008 with 1 Axes>"
      ]
     },
     "metadata": {
      "needs_background": "light"
     },
     "output_type": "display_data"
    }
   ],
   "source": [
    "plt.figure(figsize=(26,14))\n",
    "plt.title(\"S&P 500 Index\")\n",
    "spd[\"Close\"].plot()\n",
    "plt.show()"
   ]
  },
  {
   "cell_type": "markdown",
   "metadata": {},
   "source": [
    "In order to bettwe analyze the date, we set date as index and drop all the time info. Pivot table is used to group data by dates."
   ]
  },
  {
   "cell_type": "code",
   "execution_count": 30,
   "metadata": {},
   "outputs": [
    {
     "name": "stderr",
     "output_type": "stream",
     "text": [
      "c:\\software\\coding\\python\\lib\\site-packages\\ipykernel_launcher.py:2: SettingWithCopyWarning: \n",
      "A value is trying to be set on a copy of a slice from a DataFrame.\n",
      "Try using .loc[row_indexer,col_indexer] = value instead\n",
      "\n",
      "See the caveats in the documentation: https://pandas.pydata.org/pandas-docs/stable/user_guide/indexing.html#returning-a-view-versus-a-copy\n",
      "  \n"
     ]
    },
    {
     "data": {
      "text/html": [
       "<div>\n",
       "<style scoped>\n",
       "    .dataframe tbody tr th:only-of-type {\n",
       "        vertical-align: middle;\n",
       "    }\n",
       "\n",
       "    .dataframe tbody tr th {\n",
       "        vertical-align: top;\n",
       "    }\n",
       "\n",
       "    .dataframe thead th {\n",
       "        text-align: right;\n",
       "    }\n",
       "</style>\n",
       "<table border=\"1\" class=\"dataframe\">\n",
       "  <thead>\n",
       "    <tr style=\"text-align: right;\">\n",
       "      <th></th>\n",
       "      <th>text</th>\n",
       "      <th>isRetweet</th>\n",
       "      <th>device</th>\n",
       "      <th>favorites</th>\n",
       "      <th>retweets</th>\n",
       "      <th>date</th>\n",
       "      <th>Polarity</th>\n",
       "      <th>Sentiment score</th>\n",
       "      <th>Subjectivity score</th>\n",
       "    </tr>\n",
       "    <tr>\n",
       "      <th>Date</th>\n",
       "      <th></th>\n",
       "      <th></th>\n",
       "      <th></th>\n",
       "      <th></th>\n",
       "      <th></th>\n",
       "      <th></th>\n",
       "      <th></th>\n",
       "      <th></th>\n",
       "      <th></th>\n",
       "    </tr>\n",
       "  </thead>\n",
       "  <tbody>\n",
       "    <tr>\n",
       "      <th>2016-02-01</th>\n",
       "      <td>Join us CaucusForTrump11am WATERLOO CEDER RAPIDS</td>\n",
       "      <td>f</td>\n",
       "      <td>Twitter for iPhone</td>\n",
       "      <td>4167</td>\n",
       "      <td>1640</td>\n",
       "      <td>2016-02-01 02:51:22</td>\n",
       "      <td>Neutral</td>\n",
       "      <td>0.000000</td>\n",
       "      <td>0.000000</td>\n",
       "    </tr>\n",
       "    <tr>\n",
       "      <th>2016-02-01</th>\n",
       "      <td>It all begins today WE WILL FINALLY TAKE OUR C...</td>\n",
       "      <td>f</td>\n",
       "      <td>Twitter for Android</td>\n",
       "      <td>17571</td>\n",
       "      <td>7105</td>\n",
       "      <td>2016-02-01 13:25:20</td>\n",
       "      <td>Positive</td>\n",
       "      <td>0.266667</td>\n",
       "      <td>0.583333</td>\n",
       "    </tr>\n",
       "    <tr>\n",
       "      <th>2016-02-02</th>\n",
       "      <td>My experience in Iowa was a great one I starte...</td>\n",
       "      <td>f</td>\n",
       "      <td>Twitter for Android</td>\n",
       "      <td>16820</td>\n",
       "      <td>4340</td>\n",
       "      <td>2016-02-02 16:03:21</td>\n",
       "      <td>Positive</td>\n",
       "      <td>0.466667</td>\n",
       "      <td>0.583333</td>\n",
       "    </tr>\n",
       "    <tr>\n",
       "      <th>2016-02-02</th>\n",
       "      <td>Because I was told I could not do well in Iowa...</td>\n",
       "      <td>f</td>\n",
       "      <td>Twitter for Android</td>\n",
       "      <td>12001</td>\n",
       "      <td>3325</td>\n",
       "      <td>2016-02-02 16:14:24</td>\n",
       "      <td>Positive</td>\n",
       "      <td>0.177917</td>\n",
       "      <td>0.446667</td>\n",
       "    </tr>\n",
       "    <tr>\n",
       "      <th>2016-02-02</th>\n",
       "      <td>The media has not covered my long shot great f...</td>\n",
       "      <td>f</td>\n",
       "      <td>Twitter for Android</td>\n",
       "      <td>10045</td>\n",
       "      <td>3030</td>\n",
       "      <td>2016-02-02 16:29:05</td>\n",
       "      <td>Positive</td>\n",
       "      <td>0.290000</td>\n",
       "      <td>0.560000</td>\n",
       "    </tr>\n",
       "    <tr>\n",
       "      <th>...</th>\n",
       "      <td>...</td>\n",
       "      <td>...</td>\n",
       "      <td>...</td>\n",
       "      <td>...</td>\n",
       "      <td>...</td>\n",
       "      <td>...</td>\n",
       "      <td>...</td>\n",
       "      <td>...</td>\n",
       "      <td>...</td>\n",
       "    </tr>\n",
       "    <tr>\n",
       "      <th>2020-11-06</th>\n",
       "      <td>Legislature They just ignored that ignored the...</td>\n",
       "      <td>f</td>\n",
       "      <td>Twitter for iPhone</td>\n",
       "      <td>53553</td>\n",
       "      <td>13287</td>\n",
       "      <td>2020-11-06 16:28:41</td>\n",
       "      <td>Negative</td>\n",
       "      <td>-0.718519</td>\n",
       "      <td>0.762963</td>\n",
       "    </tr>\n",
       "    <tr>\n",
       "      <th>2020-11-06</th>\n",
       "      <td>has been able to render decisions in a matter ...</td>\n",
       "      <td>f</td>\n",
       "      <td>Twitter for iPhone</td>\n",
       "      <td>102067</td>\n",
       "      <td>19257</td>\n",
       "      <td>2020-11-06 16:28:42</td>\n",
       "      <td>Positive</td>\n",
       "      <td>0.166667</td>\n",
       "      <td>0.250000</td>\n",
       "    </tr>\n",
       "    <tr>\n",
       "      <th>2020-11-06</th>\n",
       "      <td>hopefully this will be corrected at the Suprem...</td>\n",
       "      <td>f</td>\n",
       "      <td>Twitter for iPhone</td>\n",
       "      <td>113524</td>\n",
       "      <td>22224</td>\n",
       "      <td>2020-11-06 16:28:42</td>\n",
       "      <td>Negative</td>\n",
       "      <td>-0.093333</td>\n",
       "      <td>0.520000</td>\n",
       "    </tr>\n",
       "    <tr>\n",
       "      <th>2020-11-06</th>\n",
       "      <td>With the attack by the Radical Left Dems on th...</td>\n",
       "      <td>f</td>\n",
       "      <td>Twitter for iPhone</td>\n",
       "      <td>256141</td>\n",
       "      <td>45857</td>\n",
       "      <td>2020-11-06 16:37:01</td>\n",
       "      <td>Positive</td>\n",
       "      <td>0.300000</td>\n",
       "      <td>0.500000</td>\n",
       "    </tr>\n",
       "    <tr>\n",
       "      <th>2020-11-06</th>\n",
       "      <td>Where are the missing military ballots in Geor...</td>\n",
       "      <td>f</td>\n",
       "      <td>Twitter for iPhone</td>\n",
       "      <td>319830</td>\n",
       "      <td>69266</td>\n",
       "      <td>2020-11-06 17:38:17</td>\n",
       "      <td>Negative</td>\n",
       "      <td>-0.150000</td>\n",
       "      <td>0.075000</td>\n",
       "    </tr>\n",
       "  </tbody>\n",
       "</table>\n",
       "<p>19335 rows × 9 columns</p>\n",
       "</div>"
      ],
      "text/plain": [
       "                                                         text isRetweet  \\\n",
       "Date                                                                      \n",
       "2016-02-01   Join us CaucusForTrump11am WATERLOO CEDER RAPIDS         f   \n",
       "2016-02-01  It all begins today WE WILL FINALLY TAKE OUR C...         f   \n",
       "2016-02-02  My experience in Iowa was a great one I starte...         f   \n",
       "2016-02-02  Because I was told I could not do well in Iowa...         f   \n",
       "2016-02-02  The media has not covered my long shot great f...         f   \n",
       "...                                                       ...       ...   \n",
       "2020-11-06  Legislature They just ignored that ignored the...         f   \n",
       "2020-11-06  has been able to render decisions in a matter ...         f   \n",
       "2020-11-06  hopefully this will be corrected at the Suprem...         f   \n",
       "2020-11-06  With the attack by the Radical Left Dems on th...         f   \n",
       "2020-11-06  Where are the missing military ballots in Geor...         f   \n",
       "\n",
       "                         device  favorites  retweets                 date  \\\n",
       "Date                                                                        \n",
       "2016-02-01   Twitter for iPhone       4167      1640  2016-02-01 02:51:22   \n",
       "2016-02-01  Twitter for Android      17571      7105  2016-02-01 13:25:20   \n",
       "2016-02-02  Twitter for Android      16820      4340  2016-02-02 16:03:21   \n",
       "2016-02-02  Twitter for Android      12001      3325  2016-02-02 16:14:24   \n",
       "2016-02-02  Twitter for Android      10045      3030  2016-02-02 16:29:05   \n",
       "...                         ...        ...       ...                  ...   \n",
       "2020-11-06   Twitter for iPhone      53553     13287  2020-11-06 16:28:41   \n",
       "2020-11-06   Twitter for iPhone     102067     19257  2020-11-06 16:28:42   \n",
       "2020-11-06   Twitter for iPhone     113524     22224  2020-11-06 16:28:42   \n",
       "2020-11-06   Twitter for iPhone     256141     45857  2020-11-06 16:37:01   \n",
       "2020-11-06   Twitter for iPhone     319830     69266  2020-11-06 17:38:17   \n",
       "\n",
       "            Polarity  Sentiment score  Subjectivity score  \n",
       "Date                                                       \n",
       "2016-02-01   Neutral         0.000000            0.000000  \n",
       "2016-02-01  Positive         0.266667            0.583333  \n",
       "2016-02-02  Positive         0.466667            0.583333  \n",
       "2016-02-02  Positive         0.177917            0.446667  \n",
       "2016-02-02  Positive         0.290000            0.560000  \n",
       "...              ...              ...                 ...  \n",
       "2020-11-06  Negative        -0.718519            0.762963  \n",
       "2020-11-06  Positive         0.166667            0.250000  \n",
       "2020-11-06  Negative        -0.093333            0.520000  \n",
       "2020-11-06  Positive         0.300000            0.500000  \n",
       "2020-11-06  Negative        -0.150000            0.075000  \n",
       "\n",
       "[19335 rows x 9 columns]"
      ]
     },
     "execution_count": 30,
     "metadata": {},
     "output_type": "execute_result"
    }
   ],
   "source": [
    "stock_self_tw = self_tw\n",
    "stock_self_tw[\"Date\"] = pd.to_datetime(stock_self_tw[\"date\"]).dt.normalize()\n",
    "stock_self_tw = stock_self_tw.set_index(\"Date\")\n",
    "stock_self_tw"
   ]
  },
  {
   "cell_type": "code",
   "execution_count": 31,
   "metadata": {},
   "outputs": [
    {
     "data": {
      "text/html": [
       "<div>\n",
       "<style scoped>\n",
       "    .dataframe tbody tr th:only-of-type {\n",
       "        vertical-align: middle;\n",
       "    }\n",
       "\n",
       "    .dataframe tbody tr th {\n",
       "        vertical-align: top;\n",
       "    }\n",
       "\n",
       "    .dataframe thead th {\n",
       "        text-align: right;\n",
       "    }\n",
       "</style>\n",
       "<table border=\"1\" class=\"dataframe\">\n",
       "  <thead>\n",
       "    <tr style=\"text-align: right;\">\n",
       "      <th></th>\n",
       "      <th>Sentiment score</th>\n",
       "      <th>Subjectivity score</th>\n",
       "      <th>favorites</th>\n",
       "      <th>retweets</th>\n",
       "    </tr>\n",
       "    <tr>\n",
       "      <th>Date</th>\n",
       "      <th></th>\n",
       "      <th></th>\n",
       "      <th></th>\n",
       "      <th></th>\n",
       "    </tr>\n",
       "  </thead>\n",
       "  <tbody>\n",
       "    <tr>\n",
       "      <th>2016-02-01</th>\n",
       "      <td>0.133333</td>\n",
       "      <td>0.291667</td>\n",
       "      <td>10869.000000</td>\n",
       "      <td>4372.500000</td>\n",
       "    </tr>\n",
       "    <tr>\n",
       "      <th>2016-02-02</th>\n",
       "      <td>0.212101</td>\n",
       "      <td>0.499332</td>\n",
       "      <td>8796.076923</td>\n",
       "      <td>2410.230769</td>\n",
       "    </tr>\n",
       "    <tr>\n",
       "      <th>2016-02-03</th>\n",
       "      <td>0.096147</td>\n",
       "      <td>0.465947</td>\n",
       "      <td>7452.571429</td>\n",
       "      <td>3117.571429</td>\n",
       "    </tr>\n",
       "    <tr>\n",
       "      <th>2016-02-04</th>\n",
       "      <td>0.202096</td>\n",
       "      <td>0.394949</td>\n",
       "      <td>6843.111111</td>\n",
       "      <td>2589.666667</td>\n",
       "    </tr>\n",
       "    <tr>\n",
       "      <th>2016-02-05</th>\n",
       "      <td>0.245540</td>\n",
       "      <td>0.354824</td>\n",
       "      <td>4670.363636</td>\n",
       "      <td>1532.000000</td>\n",
       "    </tr>\n",
       "    <tr>\n",
       "      <th>...</th>\n",
       "      <td>...</td>\n",
       "      <td>...</td>\n",
       "      <td>...</td>\n",
       "      <td>...</td>\n",
       "    </tr>\n",
       "    <tr>\n",
       "      <th>2020-11-02</th>\n",
       "      <td>0.096167</td>\n",
       "      <td>0.265612</td>\n",
       "      <td>96158.095238</td>\n",
       "      <td>16774.555556</td>\n",
       "    </tr>\n",
       "    <tr>\n",
       "      <th>2020-11-03</th>\n",
       "      <td>0.121411</td>\n",
       "      <td>0.276376</td>\n",
       "      <td>160251.555556</td>\n",
       "      <td>27420.583333</td>\n",
       "    </tr>\n",
       "    <tr>\n",
       "      <th>2020-11-04</th>\n",
       "      <td>-0.061832</td>\n",
       "      <td>0.431648</td>\n",
       "      <td>307925.076923</td>\n",
       "      <td>52766.923077</td>\n",
       "    </tr>\n",
       "    <tr>\n",
       "      <th>2020-11-05</th>\n",
       "      <td>0.119583</td>\n",
       "      <td>0.202917</td>\n",
       "      <td>243196.600000</td>\n",
       "      <td>41089.200000</td>\n",
       "    </tr>\n",
       "    <tr>\n",
       "      <th>2020-11-06</th>\n",
       "      <td>0.024749</td>\n",
       "      <td>0.302950</td>\n",
       "      <td>153618.357143</td>\n",
       "      <td>30428.714286</td>\n",
       "    </tr>\n",
       "  </tbody>\n",
       "</table>\n",
       "<p>1726 rows × 4 columns</p>\n",
       "</div>"
      ],
      "text/plain": [
       "            Sentiment score  Subjectivity score      favorites      retweets\n",
       "Date                                                                        \n",
       "2016-02-01         0.133333            0.291667   10869.000000   4372.500000\n",
       "2016-02-02         0.212101            0.499332    8796.076923   2410.230769\n",
       "2016-02-03         0.096147            0.465947    7452.571429   3117.571429\n",
       "2016-02-04         0.202096            0.394949    6843.111111   2589.666667\n",
       "2016-02-05         0.245540            0.354824    4670.363636   1532.000000\n",
       "...                     ...                 ...            ...           ...\n",
       "2020-11-02         0.096167            0.265612   96158.095238  16774.555556\n",
       "2020-11-03         0.121411            0.276376  160251.555556  27420.583333\n",
       "2020-11-04        -0.061832            0.431648  307925.076923  52766.923077\n",
       "2020-11-05         0.119583            0.202917  243196.600000  41089.200000\n",
       "2020-11-06         0.024749            0.302950  153618.357143  30428.714286\n",
       "\n",
       "[1726 rows x 4 columns]"
      ]
     },
     "execution_count": 31,
     "metadata": {},
     "output_type": "execute_result"
    }
   ],
   "source": [
    "sst_pivot = pd.pivot_table(stock_self_tw, index=[\"Date\"])\n",
    "sst_pivot"
   ]
  },
  {
   "cell_type": "code",
   "execution_count": 32,
   "metadata": {},
   "outputs": [
    {
     "data": {
      "text/html": [
       "<div>\n",
       "<style scoped>\n",
       "    .dataframe tbody tr th:only-of-type {\n",
       "        vertical-align: middle;\n",
       "    }\n",
       "\n",
       "    .dataframe tbody tr th {\n",
       "        vertical-align: top;\n",
       "    }\n",
       "\n",
       "    .dataframe thead th {\n",
       "        text-align: right;\n",
       "    }\n",
       "</style>\n",
       "<table border=\"1\" class=\"dataframe\">\n",
       "  <thead>\n",
       "    <tr style=\"text-align: right;\">\n",
       "      <th></th>\n",
       "      <th>Sentiment score</th>\n",
       "      <th>Subjectivity score</th>\n",
       "      <th>favorites</th>\n",
       "      <th>retweets</th>\n",
       "      <th>Open</th>\n",
       "      <th>High</th>\n",
       "      <th>Low</th>\n",
       "      <th>Close</th>\n",
       "      <th>Volume</th>\n",
       "    </tr>\n",
       "    <tr>\n",
       "      <th>Date</th>\n",
       "      <th></th>\n",
       "      <th></th>\n",
       "      <th></th>\n",
       "      <th></th>\n",
       "      <th></th>\n",
       "      <th></th>\n",
       "      <th></th>\n",
       "      <th></th>\n",
       "      <th></th>\n",
       "    </tr>\n",
       "  </thead>\n",
       "  <tbody>\n",
       "    <tr>\n",
       "      <th>2016-02-01</th>\n",
       "      <td>0.133333</td>\n",
       "      <td>0.291667</td>\n",
       "      <td>10869.000000</td>\n",
       "      <td>4372.500000</td>\n",
       "      <td>1936.939941</td>\n",
       "      <td>1947.199951</td>\n",
       "      <td>1920.300049</td>\n",
       "      <td>1939.380005</td>\n",
       "      <td>4.322530e+09</td>\n",
       "    </tr>\n",
       "    <tr>\n",
       "      <th>2016-02-02</th>\n",
       "      <td>0.212101</td>\n",
       "      <td>0.499332</td>\n",
       "      <td>8796.076923</td>\n",
       "      <td>2410.230769</td>\n",
       "      <td>1935.260010</td>\n",
       "      <td>1935.260010</td>\n",
       "      <td>1897.290039</td>\n",
       "      <td>1903.030029</td>\n",
       "      <td>4.463190e+09</td>\n",
       "    </tr>\n",
       "    <tr>\n",
       "      <th>2016-02-03</th>\n",
       "      <td>0.096147</td>\n",
       "      <td>0.465947</td>\n",
       "      <td>7452.571429</td>\n",
       "      <td>3117.571429</td>\n",
       "      <td>1907.069946</td>\n",
       "      <td>1918.010010</td>\n",
       "      <td>1872.229980</td>\n",
       "      <td>1912.530029</td>\n",
       "      <td>5.172950e+09</td>\n",
       "    </tr>\n",
       "    <tr>\n",
       "      <th>2016-02-04</th>\n",
       "      <td>0.202096</td>\n",
       "      <td>0.394949</td>\n",
       "      <td>6843.111111</td>\n",
       "      <td>2589.666667</td>\n",
       "      <td>1911.670044</td>\n",
       "      <td>1927.349976</td>\n",
       "      <td>1900.520020</td>\n",
       "      <td>1915.449951</td>\n",
       "      <td>5.193320e+09</td>\n",
       "    </tr>\n",
       "    <tr>\n",
       "      <th>2016-02-05</th>\n",
       "      <td>0.245540</td>\n",
       "      <td>0.354824</td>\n",
       "      <td>4670.363636</td>\n",
       "      <td>1532.000000</td>\n",
       "      <td>1913.069946</td>\n",
       "      <td>1913.069946</td>\n",
       "      <td>1872.650024</td>\n",
       "      <td>1880.050049</td>\n",
       "      <td>4.929940e+09</td>\n",
       "    </tr>\n",
       "    <tr>\n",
       "      <th>...</th>\n",
       "      <td>...</td>\n",
       "      <td>...</td>\n",
       "      <td>...</td>\n",
       "      <td>...</td>\n",
       "      <td>...</td>\n",
       "      <td>...</td>\n",
       "      <td>...</td>\n",
       "      <td>...</td>\n",
       "      <td>...</td>\n",
       "    </tr>\n",
       "    <tr>\n",
       "      <th>2020-11-02</th>\n",
       "      <td>0.096167</td>\n",
       "      <td>0.265612</td>\n",
       "      <td>96158.095238</td>\n",
       "      <td>16774.555556</td>\n",
       "      <td>3296.199951</td>\n",
       "      <td>3330.139893</td>\n",
       "      <td>3279.739990</td>\n",
       "      <td>3310.239990</td>\n",
       "      <td>4.310590e+09</td>\n",
       "    </tr>\n",
       "    <tr>\n",
       "      <th>2020-11-03</th>\n",
       "      <td>0.121411</td>\n",
       "      <td>0.276376</td>\n",
       "      <td>160251.555556</td>\n",
       "      <td>27420.583333</td>\n",
       "      <td>3336.250000</td>\n",
       "      <td>3389.489990</td>\n",
       "      <td>3336.250000</td>\n",
       "      <td>3369.159912</td>\n",
       "      <td>4.220070e+09</td>\n",
       "    </tr>\n",
       "    <tr>\n",
       "      <th>2020-11-04</th>\n",
       "      <td>-0.061832</td>\n",
       "      <td>0.431648</td>\n",
       "      <td>307925.076923</td>\n",
       "      <td>52766.923077</td>\n",
       "      <td>3406.459961</td>\n",
       "      <td>3486.250000</td>\n",
       "      <td>3405.169922</td>\n",
       "      <td>3443.439941</td>\n",
       "      <td>4.783040e+09</td>\n",
       "    </tr>\n",
       "    <tr>\n",
       "      <th>2020-11-05</th>\n",
       "      <td>0.119583</td>\n",
       "      <td>0.202917</td>\n",
       "      <td>243196.600000</td>\n",
       "      <td>41089.200000</td>\n",
       "      <td>3485.739990</td>\n",
       "      <td>3529.050049</td>\n",
       "      <td>3485.739990</td>\n",
       "      <td>3510.449951</td>\n",
       "      <td>4.841190e+09</td>\n",
       "    </tr>\n",
       "    <tr>\n",
       "      <th>2020-11-06</th>\n",
       "      <td>0.024749</td>\n",
       "      <td>0.302950</td>\n",
       "      <td>153618.357143</td>\n",
       "      <td>30428.714286</td>\n",
       "      <td>NaN</td>\n",
       "      <td>NaN</td>\n",
       "      <td>NaN</td>\n",
       "      <td>NaN</td>\n",
       "      <td>NaN</td>\n",
       "    </tr>\n",
       "  </tbody>\n",
       "</table>\n",
       "<p>1726 rows × 9 columns</p>\n",
       "</div>"
      ],
      "text/plain": [
       "            Sentiment score  Subjectivity score      favorites      retweets  \\\n",
       "Date                                                                           \n",
       "2016-02-01         0.133333            0.291667   10869.000000   4372.500000   \n",
       "2016-02-02         0.212101            0.499332    8796.076923   2410.230769   \n",
       "2016-02-03         0.096147            0.465947    7452.571429   3117.571429   \n",
       "2016-02-04         0.202096            0.394949    6843.111111   2589.666667   \n",
       "2016-02-05         0.245540            0.354824    4670.363636   1532.000000   \n",
       "...                     ...                 ...            ...           ...   \n",
       "2020-11-02         0.096167            0.265612   96158.095238  16774.555556   \n",
       "2020-11-03         0.121411            0.276376  160251.555556  27420.583333   \n",
       "2020-11-04        -0.061832            0.431648  307925.076923  52766.923077   \n",
       "2020-11-05         0.119583            0.202917  243196.600000  41089.200000   \n",
       "2020-11-06         0.024749            0.302950  153618.357143  30428.714286   \n",
       "\n",
       "                   Open         High          Low        Close        Volume  \n",
       "Date                                                                          \n",
       "2016-02-01  1936.939941  1947.199951  1920.300049  1939.380005  4.322530e+09  \n",
       "2016-02-02  1935.260010  1935.260010  1897.290039  1903.030029  4.463190e+09  \n",
       "2016-02-03  1907.069946  1918.010010  1872.229980  1912.530029  5.172950e+09  \n",
       "2016-02-04  1911.670044  1927.349976  1900.520020  1915.449951  5.193320e+09  \n",
       "2016-02-05  1913.069946  1913.069946  1872.650024  1880.050049  4.929940e+09  \n",
       "...                 ...          ...          ...          ...           ...  \n",
       "2020-11-02  3296.199951  3330.139893  3279.739990  3310.239990  4.310590e+09  \n",
       "2020-11-03  3336.250000  3389.489990  3336.250000  3369.159912  4.220070e+09  \n",
       "2020-11-04  3406.459961  3486.250000  3405.169922  3443.439941  4.783040e+09  \n",
       "2020-11-05  3485.739990  3529.050049  3485.739990  3510.449951  4.841190e+09  \n",
       "2020-11-06          NaN          NaN          NaN          NaN           NaN  \n",
       "\n",
       "[1726 rows x 9 columns]"
      ]
     },
     "execution_count": 32,
     "metadata": {},
     "output_type": "execute_result"
    }
   ],
   "source": [
    "comb_stock = pd.merge(sst_pivot, spd, how=\"left\", on=\"Date\")\n",
    "comb_stock"
   ]
  },
  {
   "cell_type": "markdown",
   "metadata": {},
   "source": [
    "### 2. Model\n",
    "I intend to use random forest and XGBoost to construct a machine learning model in exporing the correlation among the stock market performance and Trump's tweets' sentiment score.\n",
    "\n",
    "Unfortunatelly, the first draft of the model is under my expectation with overfitting issue. As the due date approach, I decide to make it as a continuation project. I will keep using the above dataset on developing this model and update the newest version on github."
   ]
  },
  {
   "cell_type": "code",
   "execution_count": 33,
   "metadata": {},
   "outputs": [],
   "source": [
    "X = comb_stock.iloc[0:20, 0:1].values\n",
    "y = comb_stock.iloc[0:20, 7:8].values\n",
    "X_train, X_test, y_train, y_test = train_test_split(X, y, test_size=0.2, random_state=0)"
   ]
  },
  {
   "cell_type": "code",
   "execution_count": 34,
   "metadata": {},
   "outputs": [],
   "source": [
    "sc = StandardScaler()\n",
    "X_train = sc.fit_transform(X_train)\n",
    "X_test = sc.transform(X_test)"
   ]
  },
  {
   "cell_type": "markdown",
   "metadata": {},
   "source": [
    "### Reference\n",
    "Shreyas, P. (2020, June 06). Tweet analytics using NLP. Retrieved December 22, 2020, \n",
    "\n",
    "    from https://medium.com/analytics-vidhya/tweet-analytics-using-nlp-f83b9f7f7349\n",
    "\n",
    "Thomas, N. (2020, October 24). Covfefe &amp; NLP - Do Trump's tweets move the Stock Market? Retrieved December 22, 2020, \n",
    "\n",
    "    from https://towardsdatascience.com/covfefe-nlp-do-trumps-tweets-move-the-stock-market-42a83ab17fea\n",
    "\n",
    "Trump, D. (n.d.). Donald Trump's Twitter.\n",
    "\n",
    "    from https://twitter.com/realDonaldTrump?ref_src=twsrc%5Egoogle%7Ctwcamp%5Eserp%7Ctwgr%5Eauthor\n",
    "\n",
    "R. Ferro, Pandas Twitter, (2017), GitHub repository\n",
    "\n",
    "    from https://github.com/RodolfoFerro/pandas_twitter"
   ]
  }
 ],
 "metadata": {
  "kernelspec": {
   "display_name": "Python 3",
   "language": "python",
   "name": "python3"
  },
  "language_info": {
   "codemirror_mode": {
    "name": "ipython",
    "version": 3
   },
   "file_extension": ".py",
   "mimetype": "text/x-python",
   "name": "python",
   "nbconvert_exporter": "python",
   "pygments_lexer": "ipython3",
   "version": "3.7.4"
  }
 },
 "nbformat": 4,
 "nbformat_minor": 1
}
